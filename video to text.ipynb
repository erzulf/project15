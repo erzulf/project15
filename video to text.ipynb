{
 "cells": [
  {
   "cell_type": "code",
   "execution_count": 1,
   "id": "6bbabf67",
   "metadata": {},
   "outputs": [
    {
     "name": "stdout",
     "output_type": "stream",
     "text": [
      "Collecting moviepy\n",
      "  Downloading moviepy-1.0.3.tar.gz (388 kB)\n",
      "Collecting decorator<5.0,>=4.0.2\n",
      "  Downloading decorator-4.4.2-py2.py3-none-any.whl (9.2 kB)\n",
      "Requirement already satisfied: tqdm<5.0,>=4.11.2 in c:\\users\\samsung\\anaconda3\\lib\\site-packages (from moviepy) (4.62.3)\n",
      "Requirement already satisfied: requests<3.0,>=2.8.1 in c:\\users\\samsung\\anaconda3\\lib\\site-packages (from moviepy) (2.26.0)\n",
      "Collecting proglog<=1.0.0\n",
      "  Downloading proglog-0.1.9.tar.gz (10 kB)\n",
      "Requirement already satisfied: numpy>=1.17.3 in c:\\users\\samsung\\anaconda3\\lib\\site-packages (from moviepy) (1.20.3)\n",
      "Requirement already satisfied: imageio<3.0,>=2.5 in c:\\users\\samsung\\anaconda3\\lib\\site-packages (from moviepy) (2.9.0)\n",
      "Collecting imageio_ffmpeg>=0.2.0\n",
      "  Downloading imageio_ffmpeg-0.4.5-py3-none-win_amd64.whl (22.6 MB)\n",
      "Requirement already satisfied: pillow in c:\\users\\samsung\\anaconda3\\lib\\site-packages (from imageio<3.0,>=2.5->moviepy) (8.4.0)\n",
      "Requirement already satisfied: charset-normalizer~=2.0.0 in c:\\users\\samsung\\anaconda3\\lib\\site-packages (from requests<3.0,>=2.8.1->moviepy) (2.0.4)\n",
      "Requirement already satisfied: urllib3<1.27,>=1.21.1 in c:\\users\\samsung\\anaconda3\\lib\\site-packages (from requests<3.0,>=2.8.1->moviepy) (1.26.7)\n",
      "Requirement already satisfied: idna<4,>=2.5 in c:\\users\\samsung\\anaconda3\\lib\\site-packages (from requests<3.0,>=2.8.1->moviepy) (3.2)\n",
      "Requirement already satisfied: certifi>=2017.4.17 in c:\\users\\samsung\\anaconda3\\lib\\site-packages (from requests<3.0,>=2.8.1->moviepy) (2021.10.8)\n",
      "Requirement already satisfied: colorama in c:\\users\\samsung\\anaconda3\\lib\\site-packages (from tqdm<5.0,>=4.11.2->moviepy) (0.4.4)\n",
      "Building wheels for collected packages: moviepy, proglog\n",
      "  Building wheel for moviepy (setup.py): started\n",
      "  Building wheel for moviepy (setup.py): finished with status 'done'\n",
      "  Created wheel for moviepy: filename=moviepy-1.0.3-py3-none-any.whl size=110744 sha256=611f2fb0a7cb1a7c023797d5c58790c9328dfe8bcb0747957473d6102453eca1\n",
      "  Stored in directory: c:\\users\\samsung\\appdata\\local\\pip\\cache\\wheels\\29\\15\\e4\\4f790bec6acd51a00b67e8ee1394f0bc6e0135c315f8ff399a\n",
      "  Building wheel for proglog (setup.py): started\n",
      "  Building wheel for proglog (setup.py): finished with status 'done'\n",
      "  Created wheel for proglog: filename=proglog-0.1.9-py3-none-any.whl size=6157 sha256=b1eb691dcde2f76bf9ce23ad59c655eb3903024e98171f38aea6e5e32c3e3f60\n",
      "  Stored in directory: c:\\users\\samsung\\appdata\\local\\pip\\cache\\wheels\\3d\\49\\90\\711d235502d9604147607f29cacf99278880246cae65313d95\n",
      "Successfully built moviepy proglog\n",
      "Installing collected packages: proglog, imageio-ffmpeg, decorator, moviepy\n",
      "  Attempting uninstall: decorator\n",
      "    Found existing installation: decorator 5.1.0\n",
      "    Uninstalling decorator-5.1.0:\n",
      "      Successfully uninstalled decorator-5.1.0\n",
      "Successfully installed decorator-4.4.2 imageio-ffmpeg-0.4.5 moviepy-1.0.3 proglog-0.1.9\n"
     ]
    }
   ],
   "source": [
    "!pip install moviepy"
   ]
  },
  {
   "cell_type": "code",
   "execution_count": 2,
   "id": "78b7a88c",
   "metadata": {},
   "outputs": [
    {
     "name": "stdout",
     "output_type": "stream",
     "text": [
      "Collecting SpeechRecognition\n",
      "  Downloading SpeechRecognition-3.8.1-py2.py3-none-any.whl (32.8 MB)\n",
      "Installing collected packages: SpeechRecognition\n",
      "Successfully installed SpeechRecognition-3.8.1\n"
     ]
    }
   ],
   "source": [
    "!pip install SpeechRecognition"
   ]
  },
  {
   "cell_type": "code",
   "execution_count": 3,
   "id": "2272f200",
   "metadata": {},
   "outputs": [
    {
     "name": "stdout",
     "output_type": "stream",
     "text": [
      "MoviePy - Writing audio in C:/Users/samsung/Desktop/Audio_file.wav\n"
     ]
    },
    {
     "name": "stderr",
     "output_type": "stream",
     "text": [
      "                                                                                                                       "
     ]
    },
    {
     "name": "stdout",
     "output_type": "stream",
     "text": [
      "MoviePy - Done.\n"
     ]
    },
    {
     "name": "stderr",
     "output_type": "stream",
     "text": [
      "\r"
     ]
    }
   ],
   "source": [
    "import moviepy.editor as np\n",
    "clip=np.VideoFileClip(r'C:/Users/samsung/Desktop/video.mp4')\n",
    "audio_clip=clip.audio.write_audiofile(r'C:/Users/samsung/Desktop/Audio_file.wav')"
   ]
  },
  {
   "cell_type": "code",
   "execution_count": 6,
   "id": "1147e2b2",
   "metadata": {},
   "outputs": [
    {
     "name": "stdout",
     "output_type": "stream",
     "text": [
      "Collecting pydub\n",
      "  Downloading pydub-0.25.1-py2.py3-none-any.whl (32 kB)\n",
      "Installing collected packages: pydub\n",
      "Successfully installed pydub-0.25.1\n"
     ]
    }
   ],
   "source": [
    "!pip install pydub"
   ]
  },
  {
   "cell_type": "code",
   "execution_count": 7,
   "id": "927385e7",
   "metadata": {},
   "outputs": [],
   "source": [
    "import os\n",
    "from pydub import AudioSegment\n",
    "from pydub.silence import split_on_silence\n",
    "import speech_recognition as sr\n",
    "r=sr.Recognizer()"
   ]
  },
  {
   "cell_type": "code",
   "execution_count": 8,
   "id": "8729b400",
   "metadata": {},
   "outputs": [],
   "source": [
    "def get_large_audio_transcription(path):\n",
    "    sound=AudioSegment.from_wav(path)\n",
    "    chunks=split_on_silence(sound,\n",
    "        min_silence_len=500,\n",
    "        silence_thresh=sound.dBFS-14,\n",
    "        keep_silence=500,\n",
    "    )\n",
    "    folder_name='audio-chunks'\n",
    "    if not os.path.isdir(folder_name):\n",
    "        os.mkdir(folder_name)\n",
    "    whole_text=''\n",
    "    for i, audio_chunk in enumerate(chunks, start=1):\n",
    "        chunk_filename=os.path.join(folder_name, f'chunk{i}.wav')\n",
    "        audio_chunk.export(chunk_filename, format='wav')\n",
    "        with sr.AudioFile(chunk_filename) as source:\n",
    "            audio_listened=r.record(source)\n",
    "            try:\n",
    "                text=r.recognize_google(audio_listened)\n",
    "            except sr.UnknownValueError as e:\n",
    "                print('Error:',str(e))\n",
    "            else:\n",
    "                text=f'{text.capitalize()}.'\n",
    "                print(chunk_filename, ':', text)\n",
    "                whole_text += text\n",
    "    return whole_text"
   ]
  },
  {
   "cell_type": "code",
   "execution_count": 9,
   "id": "fa6de904",
   "metadata": {},
   "outputs": [
    {
     "name": "stdout",
     "output_type": "stream",
     "text": [
      "audio-chunks\\chunk1.wav : How to access the elements suppose an element access karna hai to kaise karenge you will access to the elements with the help of indexes python index start from zero matlab kya upar manage or define kya hai.\n",
      "audio-chunks\\chunk2.wav : Define ki.\n",
      "audio-chunks\\chunk3.wav : Access kaise karenge element.\n",
      "Error: \n",
      "Error: \n",
      "audio-chunks\\chunk6.wav : Next volume enterprises uska index1.\n",
      "Error: \n",
      "audio-chunks\\chunk8.wav : 3.1 ka induction error 4.\n",
      "audio-chunks\\chunk9.wav : Will be start always start from zero.\n",
      "audio-chunks\\chunk10.wav : 07631.\n",
      "Error: \n",
      "audio-chunks\\chunk12.wav : Yes yes.\n",
      "audio-chunks\\chunk13.wav : Last element for -1.\n",
      "audio-chunks\\chunk14.wav : Is -2.\n",
      "audio-chunks\\chunk15.wav : Will get -3.\n",
      "Error: \n",
      "audio-chunks\\chunk17.wav : Donon mein se koi bhi ek hue mein.\n",
      "audio-chunks\\chunk18.wav : Element access kar sakte hain.\n",
      "Error: \n",
      "audio-chunks\\chunk20.wav : This is my name.\n",
      "audio-chunks\\chunk21.wav : List -1 python 2.3 and 1.\n",
      "audio-chunks\\chunk22.wav : First metro access element is printing.\n",
      "audio-chunks\\chunk23.wav : Iska matlab kya hai to print each and every element in the list.\n",
      "audio-chunks\\chunk24.wav : Syntax cleaning other square bracket map.\n",
      "audio-chunks\\chunk25.wav : Parameter starting image matlab aapko agar batana ki kaun se gift printing start kar liye to first two parameter the starting english.\n",
      "audio-chunks\\chunk26.wav : Then your in india and then the index which you want to skip.\n",
      "audio-chunks\\chunk27.wav : Each and every type is list.\n",
      "audio-chunks\\chunk28.wav : Simple phone use kya use case mein kya hoga each and every element will get if you give only a particular number to book particular index ka value print.\n",
      "Error: \n",
      "Error: \n",
      "Error: \n",
      "Error: \n",
      "audio-chunks\\chunk33.wav : Carrefour.\n",
      "audio-chunks\\chunk34.wav : Jab main shift kholen likha to puri list print in python 2 and 3 point 5.\n",
      "audio-chunks\\chunk35.wav : Mane kya hota hai ki mujhe s x ki value print karke chahie 2nd index to kya hai mera yahan per.\n",
      "audio-chunks\\chunk36.wav : Need to print watches.\n",
      "audio-chunks\\chunk37.wav : This year.\n",
      "audio-chunks\\chunk38.wav : Yes.\n",
      "audio-chunks\\chunk39.wav : If i have to slice and then friend minded case mein kya hoga yahan per maine bataya starting in which is zero.\n",
      "audio-chunks\\chunk40.wav : This will do this print all the elements from 0 index to third index excluding 30 minutes over zero-indexed ful 2nd index print over third its second ko print karne ke liye you have to write.\n",
      "audio-chunks\\chunk41.wav : In hindi in bittu ke to hamesha excluded rahega.\n",
      "Error: \n",
      "Error: \n",
      "Error: \n",
      "Error: \n",
      "audio-chunks\\chunk46.wav : Physics 1st kya puri list print we then 2nd index ka element print and then 02302 30 may 2019 and 237 finger to ki 3rd index jo ending index hamesha rahega excluded drive 2nd year.\n",
      "audio-chunks\\chunk47.wav : Yes yes yes always starts from 0.\n",
      "audio-chunks\\chunk48.wav : Ending se karna from - hum kya kar rahe zero se.\n",
      "audio-chunks\\chunk49.wav : Print karna hai na usmein kya kya bus square bracket mein agar aap sirf doge.\n",
      "audio-chunks\\chunk50.wav : Index bataya 2nd index per kya hai iska index 2018 ka to change the value index value.\n",
      "audio-chunks\\chunk51.wav : Starting index and ending index.\n",
      "audio-chunks\\chunk52.wav : Ismein kya hoga starting industry index matlab kya zero se start hoga printing for stop kaha pe hoga.\n",
      "audio-chunks\\chunk53.wav : Last index -1 ka matlab jo 300 bataya.\n",
      "audio-chunks\\chunk54.wav : Excluded.\n",
      "audio-chunks\\chunk55.wav : Pintu 2nd index value print hoga pura index list printing hoga and last index different last index is always excluded his case mein kya print hoga.\n",
      "audio-chunks\\chunk56.wav : Starting from index 0 to 2 second index key value print karne ke liye.\n",
      "Error: \n",
      "Error: \n",
      "audio-chunks\\chunk59.wav : India's.\n",
      "Error: \n",
      "Error: \n",
      "audio-chunks\\chunk62.wav : Last 10 to feel it went to sea and ocean last with extra bajaye.\n",
      "audio-chunks\\chunk63.wav : Main print karungi to s explorer hoga.\n",
      "Error: \n",
      "audio-chunks\\chunk65.wav : First a point in my list main jisme indexing addresses in which data is 2018 aapane 23.\n",
      "audio-chunks\\chunk66.wav : 2012 delhi case against application.\n",
      "Error: \n",
      "Error: \n",
      "Error: \n",
      "Error: \n",
      "Error: \n",
      "Error: \n"
     ]
    }
   ],
   "source": [
    "text=get_large_audio_transcription('C:/Users/samsung/Desktop/Audio_file.wav')"
   ]
  },
  {
   "cell_type": "code",
   "execution_count": null,
   "id": "7e1764b9",
   "metadata": {},
   "outputs": [],
   "source": []
  }
 ],
 "metadata": {
  "kernelspec": {
   "display_name": "Python 3 (ipykernel)",
   "language": "python",
   "name": "python3"
  },
  "language_info": {
   "codemirror_mode": {
    "name": "ipython",
    "version": 3
   },
   "file_extension": ".py",
   "mimetype": "text/x-python",
   "name": "python",
   "nbconvert_exporter": "python",
   "pygments_lexer": "ipython3",
   "version": "3.9.7"
  }
 },
 "nbformat": 4,
 "nbformat_minor": 5
}
